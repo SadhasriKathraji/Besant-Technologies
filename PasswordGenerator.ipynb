{
 "cells": [
  {
   "cell_type": "code",
   "execution_count": 1,
   "id": "7bcf6367-984d-4cab-8b63-03e017f5efa9",
   "metadata": {},
   "outputs": [
    {
     "name": "stdout",
     "output_type": "stream",
     "text": [
      "Welcome to Password Generator\n"
     ]
    },
    {
     "name": "stdin",
     "output_type": "stream",
     "text": [
      "enter the no. of lower case letters to include in your password: 2\n",
      "enter the no. of upper case letters to include in your password: 1\n",
      "enter the no. of numbers to include in your password: 1\n",
      "enter the no. of symbols to include in your password: 1\n"
     ]
    },
    {
     "name": "stdout",
     "output_type": "stream",
     "text": [
      "Your password is: iaU3&\n"
     ]
    }
   ],
   "source": [
    "import random\n",
    "alpha_lower = ['a', 'b', 'c', 'd', 'e', 'f', 'g', 'h', 'i', 'j', 'k', 'l', 'm', 'n', 'o', 'p', 'q', 'r', 's', 't', 'u', 'v', 'w', 'x', 'y', 'z']\n",
    "alpha_upper = ['A', 'B', 'C', 'D', 'E', 'F', 'G', 'H', 'I', 'J', 'K', 'L', 'M', 'N', 'O', 'P', 'Q', 'R', 'S', 'T', 'U', 'V', 'W', 'X', 'Y', 'Z']\n",
    "numbers = ['0','1','2','3','4','5','6','7','8','9']\n",
    "symbols = ['@','#','$','%','&','*','9','0']\n",
    "\n",
    "print(\"Welcome to Password Generator\")\n",
    "\n",
    "l = int(input(\"enter the no. of lower case letters to include in your password:\"))\n",
    "u = int(input(\"enter the no. of upper case letters to include in your password:\"))\n",
    "n = int(input(\"enter the no. of numbers to include in your password:\"))\n",
    "s = int(input(\"enter the no. of symbols to include in your password:\"))\n",
    "\n",
    "password = \"\"\n",
    "\n",
    "for i in range(l):\n",
    "    a = random.choice(alpha_lower)\n",
    "    #print(a)\n",
    "    password += a\n",
    "#print(password)\n",
    "\n",
    "for i in range(u):\n",
    "    b = random.choice(alpha_upper)\n",
    "    #print(a)\n",
    "    password += b\n",
    "#print(password)\n",
    "\n",
    "for i in range(n):\n",
    "    c = random.choice(numbers)\n",
    "    password += c\n",
    "#print(password)\n",
    "\n",
    "for i in range(s):\n",
    "    d = random.choice(symbols)\n",
    "    password += d\n",
    "#print(password)\n",
    "\n",
    "if len(password) > 6:\n",
    "    print(\"Total password length exceeds 6 characters.\")\n",
    "else:\n",
    "    print(f\"Your password is: {password}\")"
   ]
  },
  {
   "cell_type": "code",
   "execution_count": null,
   "id": "33791fba-0369-4ab1-80a2-9e028b58d620",
   "metadata": {},
   "outputs": [],
   "source": []
  }
 ],
 "metadata": {
  "kernelspec": {
   "display_name": "Python 3 (ipykernel)",
   "language": "python",
   "name": "python3"
  },
  "language_info": {
   "codemirror_mode": {
    "name": "ipython",
    "version": 3
   },
   "file_extension": ".py",
   "mimetype": "text/x-python",
   "name": "python",
   "nbconvert_exporter": "python",
   "pygments_lexer": "ipython3",
   "version": "3.12.4"
  }
 },
 "nbformat": 4,
 "nbformat_minor": 5
}
